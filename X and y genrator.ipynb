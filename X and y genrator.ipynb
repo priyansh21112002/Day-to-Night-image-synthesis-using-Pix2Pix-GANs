{
 "cells": [
  {
   "cell_type": "code",
   "execution_count": 1,
   "id": "e95a4e9d",
   "metadata": {},
   "outputs": [],
   "source": [
    "# X and Y creator"
   ]
  },
  {
   "cell_type": "code",
   "execution_count": 8,
   "id": "4ec49d3a",
   "metadata": {
    "collapsed": true
   },
   "outputs": [
    {
     "ename": "ModuleNotFoundError",
     "evalue": "No module named 'cv2'",
     "output_type": "error",
     "traceback": [
      "\u001b[1;31m---------------------------------------------------------------------------\u001b[0m",
      "\u001b[1;31mModuleNotFoundError\u001b[0m                       Traceback (most recent call last)",
      "Input \u001b[1;32mIn [8]\u001b[0m, in \u001b[0;36m<cell line: 3>\u001b[1;34m()\u001b[0m\n\u001b[0;32m      1\u001b[0m \u001b[38;5;28;01mimport\u001b[39;00m \u001b[38;5;21;01mnumpy\u001b[39;00m \u001b[38;5;28;01mas\u001b[39;00m \u001b[38;5;21;01mnp\u001b[39;00m\n\u001b[0;32m      2\u001b[0m \u001b[38;5;28;01mimport\u001b[39;00m \u001b[38;5;21;01mos\u001b[39;00m\n\u001b[1;32m----> 3\u001b[0m \u001b[38;5;28;01mimport\u001b[39;00m \u001b[38;5;21;01mcv2\u001b[39;00m \u001b[38;5;28;01mas\u001b[39;00m \u001b[38;5;21;01mcv\u001b[39;00m\n",
      "\u001b[1;31mModuleNotFoundError\u001b[0m: No module named 'cv2'"
     ]
    }
   ],
   "source": [
    "import numpy as np\n",
    "import os\n",
    "import cv2 as cv"
   ]
  },
  {
   "cell_type": "code",
   "execution_count": 6,
   "id": "9bbeaeb5",
   "metadata": {},
   "outputs": [],
   "source": [
    "#17824"
   ]
  },
  {
   "cell_type": "code",
   "execution_count": 7,
   "id": "367d9069",
   "metadata": {
    "collapsed": true
   },
   "outputs": [
    {
     "ename": "NameError",
     "evalue": "name 'cv' is not defined",
     "output_type": "error",
     "traceback": [
      "\u001b[1;31m---------------------------------------------------------------------------\u001b[0m",
      "\u001b[1;31mNameError\u001b[0m                                 Traceback (most recent call last)",
      "Input \u001b[1;32mIn [7]\u001b[0m, in \u001b[0;36m<cell line: 4>\u001b[1;34m()\u001b[0m\n\u001b[0;32m      3\u001b[0m folder_path \u001b[38;5;241m=\u001b[39m \u001b[38;5;124m\"\u001b[39m\u001b[38;5;124mx//\u001b[39m\u001b[38;5;124m\"\u001b[39m\n\u001b[0;32m      4\u001b[0m \u001b[38;5;28;01mfor\u001b[39;00m filename \u001b[38;5;129;01min\u001b[39;00m os\u001b[38;5;241m.\u001b[39mlistdir(folder_path):\n\u001b[1;32m----> 5\u001b[0m     img \u001b[38;5;241m=\u001b[39m \u001b[43mcv\u001b[49m\u001b[38;5;241m.\u001b[39mimread(folder_path\u001b[38;5;241m+\u001b[39m\u001b[38;5;124m\"\u001b[39m\u001b[38;5;124m//\u001b[39m\u001b[38;5;124m\"\u001b[39m\u001b[38;5;241m+\u001b[39mfilename)\n\u001b[0;32m      6\u001b[0m     X[count] \u001b[38;5;241m=\u001b[39m ((img\u001b[38;5;241m-\u001b[39m \u001b[38;5;241m127.5\u001b[39m) \u001b[38;5;241m/\u001b[39m \u001b[38;5;241m127.5\u001b[39m)\n\u001b[0;32m      7\u001b[0m     count\u001b[38;5;241m+\u001b[39m\u001b[38;5;241m=\u001b[39m\u001b[38;5;241m1\u001b[39m\n",
      "\u001b[1;31mNameError\u001b[0m: name 'cv' is not defined"
     ]
    }
   ],
   "source": [
    "X = np.zeros((1001, 256, 256, 3),dtype=np.float32)\n",
    "count = 0\n",
    "folder_path = \"x//\"\n",
    "for filename in os.listdir(folder_path):\n",
    "    img = cv.imread(folder_path+\"//\"+filename)\n",
    "    X[count] = ((img- 127.5) / 127.5)\n",
    "    count+=1\n",
    "np.save('X_mini.npy',X)"
   ]
  },
  {
   "cell_type": "code",
   "execution_count": 3,
   "id": "5c992ad6",
   "metadata": {},
   "outputs": [],
   "source": [
    "y = np.zeros((1001, 256, 256, 3),dtype=np.float32)\n",
    "count = 0\n",
    "folder_path = \"y//\"\n",
    "for filename in os.listdir(folder_path):\n",
    "    img = cv.imread(folder_path+\"//\"+filename)\n",
    "    y[count] = ((img- 127.5) / 127.5)\n",
    "    count+=1\n",
    "np.save('y_mini.npy',y)"
   ]
  },
  {
   "cell_type": "code",
   "execution_count": null,
   "id": "b0766b80",
   "metadata": {},
   "outputs": [],
   "source": []
  }
 ],
 "metadata": {
  "kernelspec": {
   "display_name": "Python 3 (ipykernel)",
   "language": "python",
   "name": "python3"
  },
  "language_info": {
   "codemirror_mode": {
    "name": "ipython",
    "version": 3
   },
   "file_extension": ".py",
   "mimetype": "text/x-python",
   "name": "python",
   "nbconvert_exporter": "python",
   "pygments_lexer": "ipython3",
   "version": "3.9.16"
  }
 },
 "nbformat": 4,
 "nbformat_minor": 5
}
